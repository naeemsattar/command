{
 "cells": [
  {
   "cell_type": "markdown",
   "id": "fab47250",
   "metadata": {},
   "source": [
    "# Assignment Python \n",
    "- Dated 23 Sep 2021"
   ]
  },
  {
   "cell_type": "markdown",
   "id": "daed73a9",
   "metadata": {},
   "source": [
    "##  Calculate Area of Circle\n"
   ]
  },
  {
   "cell_type": "code",
   "execution_count": null,
   "id": "e71c7700",
   "metadata": {},
   "outputs": [],
   "source": [
    "def area_of_circle(r):\n",
    "    \"\"\"\n",
    "    des: function for Calculate Area of Circle \n",
    "    -----------------------------------------\n",
    "    args:\n",
    "        r: int, float\n",
    "    -------------------------------------------\n",
    "    usage: \n",
    "        eg: area_of_circle(2)---->12.56\n",
    "    \"\"\"\n",
    "    area = 3.14*r**2\n",
    "    return area"
   ]
  },
  {
   "cell_type": "code",
   "execution_count": null,
   "id": "e35a5458",
   "metadata": {},
   "outputs": [],
   "source": [
    "area_of_circle(2)"
   ]
  },
  {
   "cell_type": "markdown",
   "id": "0c0a1edb",
   "metadata": {},
   "source": [
    "# Say Hello to user, Expected, 'Hello name'"
   ]
  },
  {
   "cell_type": "code",
   "execution_count": null,
   "id": "5a768c2a",
   "metadata": {},
   "outputs": [],
   "source": [
    "def say_hello(user):\n",
    "    \"\"\"\n",
    "    des: function to say hello to user \n",
    "    -----------------------------------------\n",
    "    args:\n",
    "        user: string\n",
    "    -------------------------------------------\n",
    "    usage: \n",
    "        eg: say_hello(\"Naeem\")---->Hello Naeem\n",
    "    \"\"\"\n",
    "    print(f\"Hello {user}\")"
   ]
  },
  {
   "cell_type": "code",
   "execution_count": null,
   "id": "8ac2b721",
   "metadata": {},
   "outputs": [],
   "source": [
    "say_hello(\"Naeem\")"
   ]
  },
  {
   "cell_type": "markdown",
   "id": "180c513f",
   "metadata": {},
   "source": [
    "# Calculate Volume of Sphere\n",
    "\n",
    "$$\n",
    "\\begin{gather*}\n",
    "V = \\frac{4}{3}\\pi r^3\n",
    "\\end{gather*}\n",
    "$$"
   ]
  },
  {
   "cell_type": "code",
   "execution_count": null,
   "id": "aaba5b9a",
   "metadata": {},
   "outputs": [],
   "source": [
    "def vol_of_sphere(r):\n",
    "    \"\"\"\n",
    "    des: function to Calculate Volume of Sphere \n",
    "    -----------------------------------------\n",
    "    args:\n",
    "        r: int, float\n",
    "    -------------------------------------------\n",
    "    usage: \n",
    "        eg: vol_of_sphere(2)---->33.49333333333333\n",
    "    \"\"\"\n",
    "    v = (4/3)*3.14*r**3\n",
    "    return v"
   ]
  },
  {
   "cell_type": "code",
   "execution_count": null,
   "id": "8404a52a",
   "metadata": {},
   "outputs": [],
   "source": [
    "vol_of_sphere(2)"
   ]
  },
  {
   "cell_type": "markdown",
   "id": "964e9ba3",
   "metadata": {},
   "source": [
    "# Copy String in n times\n"
   ]
  },
  {
   "cell_type": "code",
   "execution_count": null,
   "id": "58324722",
   "metadata": {},
   "outputs": [],
   "source": [
    "def copy_str_ntimes(str1=\"Python\",n=10):\n",
    "    \"\"\"\n",
    "    des: function to copy string n times \n",
    "    -----------------------------------------\n",
    "    args:\n",
    "        str1,n: str, int\n",
    "    -------------------------------------------\n",
    "    usage: \n",
    "        eg: copy_str_ntimes(\"Finland\",3)---->FinlandFinlandFinland\n",
    "    \"\"\"\n",
    "    return (str1*n)"
   ]
  },
  {
   "cell_type": "code",
   "execution_count": 1,
   "id": "a711d900",
   "metadata": {},
   "outputs": [
    {
     "ename": "NameError",
     "evalue": "name 'copy_str_ntimes' is not defined",
     "output_type": "error",
     "traceback": [
      "\u001b[0;31m---------------------------------------------------------------------------\u001b[0m",
      "\u001b[0;31mNameError\u001b[0m                                 Traceback (most recent call last)",
      "\u001b[0;32m/tmp/ipykernel_8057/335237616.py\u001b[0m in \u001b[0;36m<module>\u001b[0;34m\u001b[0m\n\u001b[0;32m----> 1\u001b[0;31m \u001b[0mcopy_str_ntimes\u001b[0m\u001b[0;34m(\u001b[0m\u001b[0;34m\"Finland\"\u001b[0m\u001b[0;34m,\u001b[0m\u001b[0;36m3\u001b[0m\u001b[0;34m)\u001b[0m\u001b[0;34m\u001b[0m\u001b[0;34m\u001b[0m\u001b[0m\n\u001b[0m",
      "\u001b[0;31mNameError\u001b[0m: name 'copy_str_ntimes' is not defined"
     ]
    }
   ],
   "source": [
    "copy_str_ntimes(\"Finland\",3)"
   ]
  },
  {
   "cell_type": "markdown",
   "id": "ffd56b43",
   "metadata": {},
   "source": [
    "# Calculate Area of a Triangle\n",
    "\n",
    "$$\n",
    "\\begin{gather*}\n",
    "A = \\frac{1}{2}bh\n",
    "\\end{gather*}\n",
    "$$"
   ]
  },
  {
   "cell_type": "code",
   "execution_count": null,
   "id": "c6e198a7",
   "metadata": {},
   "outputs": [],
   "source": [
    "def area_of_triangle(b=2.2,h=3.3):\n",
    "    \"\"\"\n",
    "    des: function to Calculate Area of Triangle \n",
    "    -----------------------------------------\n",
    "    args:\n",
    "        b,h: float, float\n",
    "    -------------------------------------------\n",
    "    usage: \n",
    "        eg: area_of_triangle(2)---->3.875\n",
    "    \"\"\"\n",
    "    area = (b*h)/2\n",
    "    return area"
   ]
  },
  {
   "cell_type": "code",
   "execution_count": null,
   "id": "33fdd91c",
   "metadata": {},
   "outputs": [],
   "source": [
    "area_of_triangle(2.5,3.1)"
   ]
  },
  {
   "cell_type": "markdown",
   "id": "bc0a45ce",
   "metadata": {},
   "source": [
    "# Calculate Interest"
   ]
  },
  {
   "cell_type": "code",
   "execution_count": 285,
   "id": "e3f72439",
   "metadata": {},
   "outputs": [],
   "source": [
    "def interest_calculate(p,r,t):\n",
    "    \"\"\"\n",
    "        des: function to Calculate the interest\n",
    "             p is Principle Amount\n",
    "             r is interest rate\n",
    "             t is Time period\n",
    "    -----------------------------------------\n",
    "    args:\n",
    "        p,r,t: float, float, float\n",
    "    -------------------------------------------\n",
    "    usage: \n",
    "        eg: interest_calculate(8700,3.25,3)---->848.25\n",
    "    \"\"\"\n",
    "    return (p*r*t)/100"
   ]
  },
  {
   "cell_type": "code",
   "execution_count": 286,
   "id": "b5f4c832",
   "metadata": {},
   "outputs": [
    {
     "data": {
      "text/plain": [
       "848.25"
      ]
     },
     "execution_count": 286,
     "metadata": {},
     "output_type": "execute_result"
    }
   ],
   "source": [
    "interest_calculate(8700,3.25,3)"
   ]
  },
  {
   "cell_type": "markdown",
   "id": "c19601e2",
   "metadata": {},
   "source": [
    "# calculate Euclidean Distance\n"
   ]
  },
  {
   "cell_type": "code",
   "execution_count": 3,
   "id": "e7811672",
   "metadata": {},
   "outputs": [],
   "source": [
    "def euclidean_distance(coor1,coor2):\n",
    "    \"\"\"\n",
    "        des: function to Calculate the euclidean_distance\n",
    "   \n",
    "    -----------------------------------------\n",
    "    args:\n",
    "        coor1,coor2: tuple\n",
    "    -------------------------------------------\n",
    "    usage: \n",
    "        eg: euclidean_distance((3,2),(8,10))---->9.433981132056603\n",
    "    \"\"\"\n",
    "    x1,y1 = coor1\n",
    "    x2,y2 = coor2\n",
    "    return ((x2-x1)**2+(y2-y1)**2)**0.5\n",
    "    #return (p*r*t)/100"
   ]
  },
  {
   "cell_type": "code",
   "execution_count": 4,
   "id": "b1f81b9e",
   "metadata": {},
   "outputs": [
    {
     "name": "stdout",
     "output_type": "stream",
     "text": [
      "9.433981132056603\n"
     ]
    }
   ],
   "source": [
    "\n",
    "coordinate1 = (3,2)\n",
    "coordinate2 = (8,10)\n",
    "print(euclidean_distance(coordinate1,coordinate2))"
   ]
  },
  {
   "cell_type": "markdown",
   "id": "4924c045",
   "metadata": {},
   "source": [
    "# Feet to centimeter Converter"
   ]
  },
  {
   "cell_type": "code",
   "execution_count": 5,
   "id": "f6dc09f3",
   "metadata": {},
   "outputs": [],
   "source": [
    "def feet_to_centimeter(feet):\n",
    "    \"\"\"\n",
    "        des: function to convert feet to cm\n",
    "        -----------------------------------------\n",
    "    args:\n",
    "        feet: int/float\n",
    "    -------------------------------------------\n",
    "    usage: \n",
    "        eg: feet_to_centimeter(2)---->60.96\n",
    "    \"\"\"\n",
    "    return (feet * 30.48)\n",
    "    "
   ]
  },
  {
   "cell_type": "code",
   "execution_count": 6,
   "id": "c7995843",
   "metadata": {},
   "outputs": [
    {
     "data": {
      "text/plain": [
       "60.96"
      ]
     },
     "execution_count": 6,
     "metadata": {},
     "output_type": "execute_result"
    }
   ],
   "source": [
    "feet_to_centimeter(2)"
   ]
  },
  {
   "cell_type": "markdown",
   "id": "bb4e1103",
   "metadata": {},
   "source": [
    "# BMI Calculator"
   ]
  },
  {
   "cell_type": "code",
   "execution_count": 7,
   "id": "4f1fbe4c",
   "metadata": {},
   "outputs": [],
   "source": [
    "def bmi_calculator(weight,height):\n",
    "    \"\"\"\n",
    "        des: function to convert BMI\n",
    "            weight in Kg, Height in CM\n",
    "        -----------------------------------------\n",
    "    args:\n",
    "        weight,height: float,float\n",
    "    -------------------------------------------\n",
    "    usage: \n",
    "        eg: bmi_calculator(70,175)---->22.85\n",
    "    \"\"\"\n",
    "    bmi = (weight)/((height*0.01)**2)\n",
    "    print(bmi)\n",
    "    "
   ]
  },
  {
   "cell_type": "code",
   "execution_count": 8,
   "id": "6ff063f3",
   "metadata": {},
   "outputs": [
    {
     "name": "stdout",
     "output_type": "stream",
     "text": [
      "22.857142857142858\n"
     ]
    }
   ],
   "source": [
    "bmi_calculator(70,175)"
   ]
  },
  {
   "cell_type": "markdown",
   "id": "47f49575",
   "metadata": {},
   "source": [
    "# Binary to Decimal"
   ]
  },
  {
   "cell_type": "code",
   "execution_count": 9,
   "id": "058619ef",
   "metadata": {},
   "outputs": [],
   "source": [
    "def bin_to_dec(b):\n",
    "    \"\"\"\n",
    "        des: function to convert binary to decimal \n",
    "        -----------------------------------------\n",
    "    args:\n",
    "        b: int (in binary style)\n",
    "    -------------------------------------------\n",
    "    usage: \n",
    "        eg: bin_to_dec(1001)---->9\n",
    "    \"\"\"\n",
    "    dec = 0\n",
    "    power = 0\n",
    "    while(b>0):\n",
    "        dec+=2**power*(b%10)\n",
    "        b = b//10\n",
    "        power+=1\n",
    "    return dec"
   ]
  },
  {
   "cell_type": "code",
   "execution_count": 10,
   "id": "39db817c",
   "metadata": {},
   "outputs": [
    {
     "data": {
      "text/plain": [
       "9"
      ]
     },
     "execution_count": 10,
     "metadata": {},
     "output_type": "execute_result"
    }
   ],
   "source": [
    "bin_to_dec(1001)"
   ]
  },
  {
   "cell_type": "markdown",
   "id": "6c7423cf",
   "metadata": {},
   "source": [
    "# receive two integral numbers in string form and compute their sum and then print it in console."
   ]
  },
  {
   "cell_type": "code",
   "execution_count": 11,
   "id": "8b1e6a4d",
   "metadata": {},
   "outputs": [
    {
     "name": "stdout",
     "output_type": "stream",
     "text": [
      "Enter first number: 2\n",
      "Enter second number: 3\n",
      "5\n"
     ]
    }
   ],
   "source": [
    "x = input(\"Enter first number: \")\n",
    "y = input(\"Enter second number: \")\n",
    "result = int(x) + int(y)\n",
    "print(result)"
   ]
  },
  {
   "cell_type": "markdown",
   "id": "0e10a0bc",
   "metadata": {},
   "source": [
    "# bitwise operators for any two variable all the bitwise operator that are there"
   ]
  },
  {
   "cell_type": "code",
   "execution_count": 12,
   "id": "465748b9",
   "metadata": {},
   "outputs": [],
   "source": [
    "a = 10\n",
    "b = 4"
   ]
  },
  {
   "cell_type": "code",
   "execution_count": 13,
   "id": "d85bcb19",
   "metadata": {},
   "outputs": [
    {
     "data": {
      "text/plain": [
       "0"
      ]
     },
     "execution_count": 13,
     "metadata": {},
     "output_type": "execute_result"
    }
   ],
   "source": [
    "a&b"
   ]
  },
  {
   "cell_type": "code",
   "execution_count": 14,
   "id": "e20bbcb4",
   "metadata": {},
   "outputs": [
    {
     "data": {
      "text/plain": [
       "14"
      ]
     },
     "execution_count": 14,
     "metadata": {},
     "output_type": "execute_result"
    }
   ],
   "source": [
    "a|b"
   ]
  },
  {
   "cell_type": "code",
   "execution_count": 15,
   "id": "466e75d2",
   "metadata": {},
   "outputs": [
    {
     "data": {
      "text/plain": [
       "-11"
      ]
     },
     "execution_count": 15,
     "metadata": {},
     "output_type": "execute_result"
    }
   ],
   "source": [
    "~a"
   ]
  },
  {
   "cell_type": "code",
   "execution_count": 16,
   "id": "11f57d81",
   "metadata": {},
   "outputs": [
    {
     "data": {
      "text/plain": [
       "14"
      ]
     },
     "execution_count": 16,
     "metadata": {},
     "output_type": "execute_result"
    }
   ],
   "source": [
    "a^b"
   ]
  },
  {
   "cell_type": "markdown",
   "id": "21388b17",
   "metadata": {},
   "source": [
    "# shift operators\n",
    "- These operators are used to shift the bits of a number left or right thereby multiplying or dividing the number by two respectively. They can be used when we have to multiply or divide a number by two. \n",
    "## Bitwise right shift\n",
    "- Shifts the bits of the number to the right and fills 0 on voids left( fills 1 in the case of a negative number) as a result. Similar effect as of dividing the number with some power of two."
   ]
  },
  {
   "cell_type": "markdown",
   "id": "a7d25e7b",
   "metadata": {},
   "source": [
    "#  str1=\" this is a sample daTaa to test for the task\" Check if ‘is’ present in str1\n"
   ]
  },
  {
   "cell_type": "code",
   "execution_count": 17,
   "id": "a29a381d",
   "metadata": {},
   "outputs": [
    {
     "data": {
      "text/plain": [
       "True"
      ]
     },
     "execution_count": 17,
     "metadata": {},
     "output_type": "execute_result"
    }
   ],
   "source": [
    "str1=\" this is a sample daTaa to test for the task\" \n",
    "\"is\" in str1"
   ]
  },
  {
   "cell_type": "markdown",
   "id": "d072a5c3",
   "metadata": {},
   "source": [
    "# Check if ‘was’ not present in str1"
   ]
  },
  {
   "cell_type": "code",
   "execution_count": 18,
   "id": "d65809b2",
   "metadata": {},
   "outputs": [
    {
     "data": {
      "text/plain": [
       "False"
      ]
     },
     "execution_count": 18,
     "metadata": {},
     "output_type": "execute_result"
    }
   ],
   "source": [
    "str1=\" this is a sample daTaa to test for the task\" \n",
    "\"is\" not in str1"
   ]
  },
  {
   "cell_type": "markdown",
   "id": "fb37c9ee",
   "metadata": {},
   "source": [
    "# Print str1 in uppercase"
   ]
  },
  {
   "cell_type": "code",
   "execution_count": 19,
   "id": "1dbdf4e1",
   "metadata": {},
   "outputs": [],
   "source": [
    "def print_upper(s):\n",
    "    \"\"\"\n",
    "        des: function to print in upper case\n",
    "    -----------------------------------------\n",
    "    args:\n",
    "        s: str\n",
    "    -------------------------------------------\n",
    "    usage: \n",
    "        eg: print_upper(\"hello world\")---->HELLO WORLD\n",
    "    \"\"\"\n",
    "    return s.upper()\n"
   ]
  },
  {
   "cell_type": "code",
   "execution_count": 20,
   "id": "42546f83",
   "metadata": {},
   "outputs": [
    {
     "name": "stdout",
     "output_type": "stream",
     "text": [
      " THIS IS A SAMPLE DATAA TO TEST FOR THE TASK\n"
     ]
    }
   ],
   "source": [
    "str1=\" this is a sample daTaa to test for the task\" \n",
    "print(print_upper(str1))"
   ]
  },
  {
   "cell_type": "markdown",
   "id": "1538af2d",
   "metadata": {},
   "source": [
    "# Print str1 as title"
   ]
  },
  {
   "cell_type": "code",
   "execution_count": 21,
   "id": "c0350b2e",
   "metadata": {},
   "outputs": [],
   "source": [
    "def print_title(s):\n",
    "    \"\"\"\n",
    "        des: function to print in title case\n",
    "    -----------------------------------------\n",
    "    args:\n",
    "        s: str\n",
    "    -------------------------------------------\n",
    "    usage: \n",
    "        eg: print_title(\"hello world\")---->Hello World\n",
    "    \"\"\"\n",
    "    print(s.title())"
   ]
  },
  {
   "cell_type": "code",
   "execution_count": 22,
   "id": "5e37676d",
   "metadata": {},
   "outputs": [
    {
     "name": "stdout",
     "output_type": "stream",
     "text": [
      " This Is A Sample Dataa To Test For The Task\n"
     ]
    }
   ],
   "source": [
    "str1=\" this is a sample daTaa to test for the task\" \n",
    "print_title(str1)"
   ]
  },
  {
   "cell_type": "markdown",
   "id": "5024ae93",
   "metadata": {},
   "source": [
    "# Get a new string from str1 ‘DatTaa’ as ‘Data’"
   ]
  },
  {
   "cell_type": "code",
   "execution_count": 23,
   "id": "1d2637cc",
   "metadata": {},
   "outputs": [
    {
     "name": "stdout",
     "output_type": "stream",
     "text": [
      " Data\n",
      " Data\n"
     ]
    }
   ],
   "source": [
    "str1=\" DatTaa\"\n",
    "new_str = str1[:4]+str1[-1]\n",
    "print(new_str)\n",
    "\n",
    "# SECOND METHOD\n",
    "new_str = str1.replace('Ta','')\n",
    "print(new_str)"
   ]
  },
  {
   "cell_type": "markdown",
   "id": "83aa9b22",
   "metadata": {},
   "source": [
    "#  Print a new string with extra \"a\" removed form previous task\n"
   ]
  },
  {
   "cell_type": "code",
   "execution_count": 24,
   "id": "26acd955",
   "metadata": {},
   "outputs": [
    {
     "name": "stdout",
     "output_type": "stream",
     "text": [
      " Dataa\n"
     ]
    }
   ],
   "source": [
    "new_str = new_str+\"a\"\n",
    "print(new_str)"
   ]
  },
  {
   "cell_type": "markdown",
   "id": "ec9ffb06",
   "metadata": {},
   "source": [
    "#  Display ‘sample’ word from ‘ this is another sample string ‘\n"
   ]
  },
  {
   "cell_type": "code",
   "execution_count": 25,
   "id": "a822808d",
   "metadata": {},
   "outputs": [
    {
     "name": "stdout",
     "output_type": "stream",
     "text": [
      "sample\n",
      "sample\n"
     ]
    }
   ],
   "source": [
    "str1 = \"this is another sample string\"\n",
    "word = \"sample\"\n",
    "print(str1[str1.find(word):str1.find(word)+len(word)])\n",
    "# SECOND METHOD\n",
    "\n",
    "print(str1.split()[-2])\n",
    "        "
   ]
  },
  {
   "cell_type": "markdown",
   "id": "266aa847",
   "metadata": {},
   "source": [
    "# Display date, month and year form 21-oct-2020"
   ]
  },
  {
   "cell_type": "code",
   "execution_count": 26,
   "id": "b4882885",
   "metadata": {},
   "outputs": [
    {
     "name": "stdout",
     "output_type": "stream",
     "text": [
      "Date : 21, Month : oct, Year : 2020\n"
     ]
    }
   ],
   "source": [
    "str1 = \"21-oct-2020\"\n",
    "date,month,year = str1.split('-')\n",
    "print(f\"Date : {date}, Month : {month}, Year : {year}\")"
   ]
  },
  {
   "cell_type": "markdown",
   "id": "fbacc877",
   "metadata": {},
   "source": [
    "#   arr = “10,20,30,40,50,60,70”, get “50,60”\n"
   ]
  },
  {
   "cell_type": "code",
   "execution_count": 27,
   "id": "f1eaf205",
   "metadata": {},
   "outputs": [
    {
     "name": "stdout",
     "output_type": "stream",
     "text": [
      "['50', '60']\n"
     ]
    }
   ],
   "source": [
    "arr = \"10,20,30,40,50,60,70\"\n",
    "print(arr.split(',')[-3:-1])\n"
   ]
  },
  {
   "cell_type": "markdown",
   "id": "15c0881b",
   "metadata": {},
   "source": [
    "#   using negative index get \"50 ,60\"\n"
   ]
  },
  {
   "cell_type": "code",
   "execution_count": 28,
   "id": "5065fa35",
   "metadata": {},
   "outputs": [
    {
     "name": "stdout",
     "output_type": "stream",
     "text": [
      "['50', '60']\n"
     ]
    }
   ],
   "source": [
    "arr = \"10,20,30,40,50,60,70\"\n",
    "print(arr.split(',')[-3:-1])"
   ]
  },
  {
   "cell_type": "markdown",
   "id": "bb727a16",
   "metadata": {},
   "source": [
    "# From credit_str get ‘8888’\n",
    "credit_str = \"xxxx----xxxx-8888------xxxx\"\n"
   ]
  },
  {
   "cell_type": "code",
   "execution_count": 29,
   "id": "e62c2d4a",
   "metadata": {},
   "outputs": [
    {
     "name": "stdout",
     "output_type": "stream",
     "text": [
      "8888\n"
     ]
    }
   ],
   "source": [
    "credit_str = \"xxxx----xxxx-8888------xxxx\"\n",
    "word = \"8888\"\n",
    "print(credit_str[credit_str.find(word):credit_str.find(word)+len(word)])"
   ]
  },
  {
   "cell_type": "markdown",
   "id": "57c7161d",
   "metadata": {},
   "source": [
    "# From credit_str get ‘0’\n",
    "credit_str = \"1234-5678-9878-0434\"\n"
   ]
  },
  {
   "cell_type": "code",
   "execution_count": 30,
   "id": "0658fec7",
   "metadata": {},
   "outputs": [
    {
     "name": "stdout",
     "output_type": "stream",
     "text": [
      "0\n"
     ]
    }
   ],
   "source": [
    "credit_str = \"1234-5678-9878-0434\"\n",
    "word = \"0\"\n",
    "print(credit_str[credit_str.find(word):credit_str.find(word)+len(word)])"
   ]
  },
  {
   "cell_type": "markdown",
   "id": "8266d110",
   "metadata": {},
   "source": [
    "#  convert a integer into a string and print it in console.\n"
   ]
  },
  {
   "cell_type": "code",
   "execution_count": 31,
   "id": "3a38b0db",
   "metadata": {},
   "outputs": [
    {
     "name": "stdout",
     "output_type": "stream",
     "text": [
      "1\n"
     ]
    }
   ],
   "source": [
    "num = 1\n",
    "str_num = str(num)\n",
    "print(str_num)"
   ]
  },
  {
   "cell_type": "markdown",
   "id": "55fd62c7",
   "metadata": {},
   "source": [
    "#  take two strings as input and concatenate them and then print it\n"
   ]
  },
  {
   "cell_type": "code",
   "execution_count": 32,
   "id": "9f9a502c",
   "metadata": {},
   "outputs": [
    {
     "ename": "KeyboardInterrupt",
     "evalue": "Interrupted by user",
     "output_type": "error",
     "traceback": [
      "\u001b[0;31m---------------------------------------------------------------------------\u001b[0m",
      "\u001b[0;31mKeyboardInterrupt\u001b[0m                         Traceback (most recent call last)",
      "\u001b[0;32m/tmp/ipykernel_8057/3048925345.py\u001b[0m in \u001b[0;36m<module>\u001b[0;34m\u001b[0m\n\u001b[0;32m----> 1\u001b[0;31m \u001b[0mstr1\u001b[0m \u001b[0;34m=\u001b[0m \u001b[0minput\u001b[0m\u001b[0;34m(\u001b[0m\u001b[0;34m\"String 1: \"\u001b[0m\u001b[0;34m)\u001b[0m\u001b[0;34m\u001b[0m\u001b[0;34m\u001b[0m\u001b[0m\n\u001b[0m\u001b[1;32m      2\u001b[0m \u001b[0mstr2\u001b[0m \u001b[0;34m=\u001b[0m \u001b[0minput\u001b[0m\u001b[0;34m(\u001b[0m\u001b[0;34m\"String 2: \"\u001b[0m\u001b[0;34m)\u001b[0m\u001b[0;34m\u001b[0m\u001b[0;34m\u001b[0m\u001b[0m\n\u001b[1;32m      3\u001b[0m \u001b[0mprint\u001b[0m\u001b[0;34m(\u001b[0m\u001b[0mstr1\u001b[0m\u001b[0;34m+\u001b[0m\u001b[0mstr2\u001b[0m\u001b[0;34m)\u001b[0m\u001b[0;34m\u001b[0m\u001b[0;34m\u001b[0m\u001b[0m\n",
      "\u001b[0;32m~/miniconda3/lib/python3.9/site-packages/ipykernel/kernelbase.py\u001b[0m in \u001b[0;36mraw_input\u001b[0;34m(self, prompt)\u001b[0m\n\u001b[1;32m   1004\u001b[0m                 \u001b[0;34m\"raw_input was called, but this frontend does not support input requests.\"\u001b[0m\u001b[0;34m\u001b[0m\u001b[0;34m\u001b[0m\u001b[0m\n\u001b[1;32m   1005\u001b[0m             )\n\u001b[0;32m-> 1006\u001b[0;31m         return self._input_request(\n\u001b[0m\u001b[1;32m   1007\u001b[0m             \u001b[0mstr\u001b[0m\u001b[0;34m(\u001b[0m\u001b[0mprompt\u001b[0m\u001b[0;34m)\u001b[0m\u001b[0;34m,\u001b[0m\u001b[0;34m\u001b[0m\u001b[0;34m\u001b[0m\u001b[0m\n\u001b[1;32m   1008\u001b[0m             \u001b[0mself\u001b[0m\u001b[0;34m.\u001b[0m\u001b[0m_parent_ident\u001b[0m\u001b[0;34m[\u001b[0m\u001b[0;34m\"shell\"\u001b[0m\u001b[0;34m]\u001b[0m\u001b[0;34m,\u001b[0m\u001b[0;34m\u001b[0m\u001b[0;34m\u001b[0m\u001b[0m\n",
      "\u001b[0;32m~/miniconda3/lib/python3.9/site-packages/ipykernel/kernelbase.py\u001b[0m in \u001b[0;36m_input_request\u001b[0;34m(self, prompt, ident, parent, password)\u001b[0m\n\u001b[1;32m   1049\u001b[0m             \u001b[0;32mexcept\u001b[0m \u001b[0mKeyboardInterrupt\u001b[0m\u001b[0;34m:\u001b[0m\u001b[0;34m\u001b[0m\u001b[0;34m\u001b[0m\u001b[0m\n\u001b[1;32m   1050\u001b[0m                 \u001b[0;31m# re-raise KeyboardInterrupt, to truncate traceback\u001b[0m\u001b[0;34m\u001b[0m\u001b[0;34m\u001b[0m\u001b[0;34m\u001b[0m\u001b[0m\n\u001b[0;32m-> 1051\u001b[0;31m                 \u001b[0;32mraise\u001b[0m \u001b[0mKeyboardInterrupt\u001b[0m\u001b[0;34m(\u001b[0m\u001b[0;34m\"Interrupted by user\"\u001b[0m\u001b[0;34m)\u001b[0m \u001b[0;32mfrom\u001b[0m \u001b[0;32mNone\u001b[0m\u001b[0;34m\u001b[0m\u001b[0;34m\u001b[0m\u001b[0m\n\u001b[0m\u001b[1;32m   1052\u001b[0m             \u001b[0;32mexcept\u001b[0m \u001b[0mException\u001b[0m\u001b[0;34m:\u001b[0m\u001b[0;34m\u001b[0m\u001b[0;34m\u001b[0m\u001b[0m\n\u001b[1;32m   1053\u001b[0m                 \u001b[0mself\u001b[0m\u001b[0;34m.\u001b[0m\u001b[0mlog\u001b[0m\u001b[0;34m.\u001b[0m\u001b[0mwarning\u001b[0m\u001b[0;34m(\u001b[0m\u001b[0;34m\"Invalid Message:\"\u001b[0m\u001b[0;34m,\u001b[0m \u001b[0mexc_info\u001b[0m\u001b[0;34m=\u001b[0m\u001b[0;32mTrue\u001b[0m\u001b[0;34m)\u001b[0m\u001b[0;34m\u001b[0m\u001b[0;34m\u001b[0m\u001b[0m\n",
      "\u001b[0;31mKeyboardInterrupt\u001b[0m: Interrupted by user"
     ]
    }
   ],
   "source": [
    "str1 = input(\"String 1: \")\n",
    "str2 = input(\"String 2: \")\n",
    "print(str1+str2)"
   ]
  },
  {
   "cell_type": "markdown",
   "id": "b154e665",
   "metadata": {},
   "source": [
    "#  convert the given string into list\n",
    "given_string = \" Apples is differnt from Apple Inc\""
   ]
  },
  {
   "cell_type": "code",
   "execution_count": null,
   "id": "7e74411b",
   "metadata": {},
   "outputs": [],
   "source": [
    "given_string = \"Apples is differnt from Apple Inc\"\n",
    "list_converted = given_string.split()\n",
    "print(list_converted)"
   ]
  },
  {
   "cell_type": "markdown",
   "id": "7e807657",
   "metadata": {},
   "source": [
    "# print type of a and get the 1 element\n",
    "a = {(1,2):1,(2,3):2}\n"
   ]
  },
  {
   "cell_type": "code",
   "execution_count": null,
   "id": "4dab2016",
   "metadata": {},
   "outputs": [],
   "source": [
    "a = {(1,2):1,(2,3):2}\n",
    "print(type(a))\n",
    "print(a[1,2])"
   ]
  },
  {
   "cell_type": "markdown",
   "id": "fdc7f24a",
   "metadata": {},
   "source": [
    "# write a program to get  list as 4,3,2 from the list below\n",
    "a=1,2,3,4,5"
   ]
  },
  {
   "cell_type": "code",
   "execution_count": null,
   "id": "b4dd8f94",
   "metadata": {},
   "outputs": [],
   "source": [
    "a=[1,2,3,4,5]\n",
    "a.reverse()\n",
    "print(a)"
   ]
  },
  {
   "cell_type": "markdown",
   "id": "8fad63da",
   "metadata": {},
   "source": [
    "# write a program to get odd number only using a slicing\n",
    "a=1,2,3,4,5,6,7,8,9\n"
   ]
  },
  {
   "cell_type": "code",
   "execution_count": null,
   "id": "2588e379",
   "metadata": {},
   "outputs": [],
   "source": [
    "a=[1,2,3,4,5,6,7,8,9]\n",
    "print(a[0:-1:2])"
   ]
  },
  {
   "cell_type": "markdown",
   "id": "26ac5582",
   "metadata": {},
   "source": [
    "# create a tuple with (1,2) 5 times\n"
   ]
  },
  {
   "cell_type": "code",
   "execution_count": null,
   "id": "fa290fe2",
   "metadata": {},
   "outputs": [],
   "source": [
    "a = ((1,2),)*5\n",
    "a"
   ]
  },
  {
   "cell_type": "markdown",
   "id": "5987f129",
   "metadata": {},
   "source": [
    "#  from given list create separate lists of strings and numbers.use list comprehension\n",
    "gadgets = \"Mobile\", \"Laptop\", 100, \"Camera\", 310.28, \"Speakers\", 27.00, \"Television\", 1000, \"Laptop Case\", \"Camera Lens\""
   ]
  },
  {
   "cell_type": "code",
   "execution_count": null,
   "id": "98bcd751",
   "metadata": {},
   "outputs": [],
   "source": [
    "gadgets = [\"Mobile\", \"Laptop\", 100, \"Camera\", 310.28, \"Speakers\", 27.00, \"Television\", 1000, \"Laptop Case\", \"Camera Lens\"]\n",
    "\n",
    "type(gadgets)\n",
    "str_list = [x for x in gadgets if isinstance(x,str) ]\n",
    "num_list = [x for x in gadgets if isinstance(x,int) or isinstance(x,float)]\n",
    "print(str_list)\n",
    "print(num_list)"
   ]
  },
  {
   "cell_type": "markdown",
   "id": "93b7ef33",
   "metadata": {},
   "source": [
    "# An array is given from the array find the sum of diagonal using list comprehension\n",
    "a_2d=[1, 2, 3, 4, 5, 6, 7, 8, 9]"
   ]
  },
  {
   "cell_type": "code",
   "execution_count": null,
   "id": "955fdb9b",
   "metadata": {},
   "outputs": [],
   "source": [
    "a_2d=[[1, 2, 3], [4, 5, 6],[ 7, 8, 9]]"
   ]
  },
  {
   "cell_type": "markdown",
   "id": "54d26d52",
   "metadata": {},
   "source": [
    "# convert number into tuple of words using comprehension\n",
    "num=8976543201"
   ]
  },
  {
   "cell_type": "code",
   "execution_count": null,
   "id": "4e71fbb3",
   "metadata": {},
   "outputs": [],
   "source": [
    "num = 8976543201"
   ]
  },
  {
   "cell_type": "code",
   "execution_count": null,
   "id": "8670e3e3",
   "metadata": {},
   "outputs": [],
   "source": [
    "[x for x in n]"
   ]
  },
  {
   "cell_type": "markdown",
   "id": "52c632d4",
   "metadata": {},
   "source": [
    "# print the numbers which are divisible by 2 but are not a multiple of 5\n",
    "numbers = range(1, 10)"
   ]
  },
  {
   "cell_type": "code",
   "execution_count": null,
   "id": "97b06a18",
   "metadata": {},
   "outputs": [],
   "source": [
    "for i in range(1,10):\n",
    "    if i % 2 == 0 and i % 5 != 0 :\n",
    "        print(i)"
   ]
  },
  {
   "cell_type": "markdown",
   "id": "9dff246b",
   "metadata": {},
   "source": [
    "# print the sum of tuple : use comprehension\n",
    "init_tuple = [(0, 1), (1, 2), (2, 3)]\n"
   ]
  },
  {
   "cell_type": "code",
   "execution_count": null,
   "id": "fd1f5b93",
   "metadata": {},
   "outputs": [],
   "source": [
    "init_tuple = [(0, 1), (1, 2), (2, 3)]\n",
    "\n",
    "[sum(x) for x in zip(*init_tuple)]\n"
   ]
  },
  {
   "cell_type": "markdown",
   "id": "f98e20b8",
   "metadata": {},
   "source": [
    "#  delete the last coumn from the given 4*4 matrix"
   ]
  },
  {
   "cell_type": "code",
   "execution_count": null,
   "id": "ce12f006",
   "metadata": {},
   "outputs": [],
   "source": [
    "import numpy as np\n",
    "arr = [[1, 2, 3, 4],\n",
    "       [4, 5, 6, 7],\n",
    "       [8, 9, 10, 11],\n",
    "       [12, 13, 14, 15]]"
   ]
  },
  {
   "cell_type": "code",
   "execution_count": null,
   "id": "4c336b17",
   "metadata": {},
   "outputs": [],
   "source": [
    "narr = np.array(arr)\n",
    "narr.shape\n",
    "narr = narr[:,:-1,]\n",
    "narr.shape"
   ]
  },
  {
   "cell_type": "markdown",
   "id": "4aa0ae69",
   "metadata": {},
   "source": [
    "# get the list of value of dict in sorted way"
   ]
  },
  {
   "cell_type": "code",
   "execution_count": null,
   "id": "998aaeb3",
   "metadata": {},
   "outputs": [],
   "source": [
    "dict1 = {'c': 97, 'a': 96, 'b': 98}\n",
    "sorted(dict1.values())"
   ]
  },
  {
   "cell_type": "markdown",
   "id": "44db1eab",
   "metadata": {},
   "source": [
    "# Creating a Dictionary with Integer Keys and print it"
   ]
  },
  {
   "cell_type": "code",
   "execution_count": null,
   "id": "749d9a10",
   "metadata": {},
   "outputs": [],
   "source": [
    "new_dict = {1:\"A\",2:\"B\",3:\"C\",4:\"D\"}\n",
    "print(new_dict)"
   ]
  },
  {
   "cell_type": "markdown",
   "id": "9e067a6f",
   "metadata": {},
   "source": [
    "# Creating a Dictionary with Mixed keys"
   ]
  },
  {
   "cell_type": "code",
   "execution_count": null,
   "id": "54d5fe8d",
   "metadata": {},
   "outputs": [],
   "source": [
    "student_dict = {'Name': 'Naeem', 1: [1, 2, 3, 4]}\n",
    "print(student_dict)"
   ]
  },
  {
   "cell_type": "markdown",
   "id": "49b5d466",
   "metadata": {},
   "source": [
    "# Creating an empty Dictionary"
   ]
  },
  {
   "cell_type": "code",
   "execution_count": null,
   "id": "3e5049b3",
   "metadata": {},
   "outputs": [],
   "source": [
    "empty_dict1 = {}\n",
    "print(type(empty_dict1))\n",
    "empty_dict2 = dict()\n",
    "print(type(empty_dict2))"
   ]
  },
  {
   "cell_type": "markdown",
   "id": "3be930a6",
   "metadata": {},
   "source": [
    "# Creating a Dictionary with dict() method"
   ]
  },
  {
   "cell_type": "code",
   "execution_count": null,
   "id": "ab8d732a",
   "metadata": {},
   "outputs": [],
   "source": [
    "dict3 = dict()"
   ]
  },
  {
   "cell_type": "markdown",
   "id": "d31dd762",
   "metadata": {},
   "source": [
    "# Creating a Dictionary with each item as a Pair"
   ]
  },
  {
   "cell_type": "code",
   "execution_count": null,
   "id": "26aa96ae",
   "metadata": {},
   "outputs": [],
   "source": [
    "dict4 = {1:\"A\",2:\"B\",3:\"C\",4:\"D\"}"
   ]
  },
  {
   "cell_type": "markdown",
   "id": "60d8d854",
   "metadata": {},
   "source": [
    "# Creating a Nested Dictionary as shown in the below image\n",
    "{1: 'python', 2: 'For', 3: {'A': 'Welcome', 'B': 'To', 'C': 'Python', 'D': 'class'}}"
   ]
  },
  {
   "cell_type": "code",
   "execution_count": null,
   "id": "07eb6125",
   "metadata": {},
   "outputs": [],
   "source": [
    "nested_dict = {1:\"python\", 2 : \"For\", 3 : {\"A\":\"Welcome\", \"B\":\"TO\",\"C\":\"Python\",\"D\":\"class\"}}"
   ]
  },
  {
   "cell_type": "markdown",
   "id": "b79f1624",
   "metadata": {},
   "source": [
    "# Add a Nested Key value to nested dictionary Dictionary"
   ]
  },
  {
   "cell_type": "code",
   "execution_count": null,
   "id": "b2e4d857",
   "metadata": {},
   "outputs": [],
   "source": [
    "nested_dict[4] = {}"
   ]
  },
  {
   "cell_type": "code",
   "execution_count": null,
   "id": "36702c7d",
   "metadata": {},
   "outputs": [],
   "source": [
    "nested_dict[4]['Subject']={1:\"Math\",2:\"State\",3:\"Physics\"}"
   ]
  },
  {
   "cell_type": "code",
   "execution_count": null,
   "id": "f6859207",
   "metadata": {},
   "outputs": [],
   "source": [
    "nested_dict"
   ]
  },
  {
   "cell_type": "code",
   "execution_count": null,
   "id": "ee8ee382",
   "metadata": {},
   "outputs": [],
   "source": [
    "nested_dict[4][\"Subject\"][2]"
   ]
  },
  {
   "cell_type": "code",
   "execution_count": null,
   "id": "002a395b",
   "metadata": {},
   "outputs": [],
   "source": []
  },
  {
   "cell_type": "markdown",
   "id": "d688b61a",
   "metadata": {},
   "source": [
    "# create a dictionary with id:num and value: square for range (0,6) using dict comprehension"
   ]
  },
  {
   "cell_type": "code",
   "execution_count": null,
   "id": "4eb07675",
   "metadata": {},
   "outputs": [],
   "source": [
    "dict5 = {key:value for (key,value) in range(0,6)}\n"
   ]
  },
  {
   "cell_type": "markdown",
   "id": "72d1f84f",
   "metadata": {},
   "source": [
    "#  create a dictionary using dict comprehension to get the odd square only\n"
   ]
  },
  {
   "cell_type": "code",
   "execution_count": null,
   "id": "f5371149",
   "metadata": {},
   "outputs": [],
   "source": [
    "\n"
   ]
  },
  {
   "cell_type": "markdown",
   "id": "7328c86a",
   "metadata": {},
   "source": [
    "# from a given dict {1: 'a', 2: 'b', 3: 'c'} change the key into item and viceversa"
   ]
  },
  {
   "cell_type": "code",
   "execution_count": null,
   "id": "312c3455",
   "metadata": {},
   "outputs": [],
   "source": []
  },
  {
   "cell_type": "markdown",
   "id": "f780707f",
   "metadata": {},
   "source": [
    "#  get a hello from the given dict\n",
    "- d = {'k1':[{'nest_key':['this is deep','hello']}]}\n",
    "- d1 = {'k1':[1,2,{'k2':['this is tricky',{'tough':[1,2,'hello']}]}]}"
   ]
  },
  {
   "cell_type": "markdown",
   "id": "b0d9a123",
   "metadata": {},
   "source": [
    "# Divisibility Check of user given 2 input of numbers\n"
   ]
  },
  {
   "cell_type": "code",
   "execution_count": null,
   "id": "561e1c58",
   "metadata": {},
   "outputs": [],
   "source": [
    "input1 = int(input(\"Enter number 1:\"))\n",
    "input2 = int(input(\"Enter number 2:\"))\n",
    "if input1 % input2 == 0:\n",
    "    print(f\"{input1} is divible by {input2}\")\n",
    "elif input2 % input1 == 0:\n",
    "    print(f\"{input2} is divisible by {input1}\")\n",
    "else:\n",
    "    print(\"Numbers are not divisible by eachother\")"
   ]
  },
  {
   "cell_type": "markdown",
   "id": "d702c7db",
   "metadata": {},
   "source": [
    "# Check if number is even or odd"
   ]
  },
  {
   "cell_type": "code",
   "execution_count": null,
   "id": "ff102aaa",
   "metadata": {},
   "outputs": [],
   "source": [
    "input1 = int(input(\"Enter number:\"))\n",
    "if input1 % 2 ==0:\n",
    "    print(f\"{input1} is even\")\n",
    "else: print(f\"{input1} is odd\")"
   ]
  },
  {
   "cell_type": "markdown",
   "id": "3058a295",
   "metadata": {},
   "source": [
    "# Check whether Entered character is Vowel or not"
   ]
  },
  {
   "cell_type": "code",
   "execution_count": null,
   "id": "dcf5223e",
   "metadata": {},
   "outputs": [],
   "source": [
    "vowel_list = ['A', 'E', 'I', 'O', 'U', 'Y', 'W']\n",
    "input_char = input(\"Enter character: \").upper()\n",
    "if input_char in vowel_list:\n",
    "    print(f\"{input_char} is a vowel\")\n",
    "else:\n",
    "    print(f\"{input_char} is not a vowel\")"
   ]
  },
  {
   "cell_type": "markdown",
   "id": "6a689d24",
   "metadata": {},
   "source": [
    "# calculate Sum of n positive Integer\n",
    "example: Sum of n positive Integer till 2 is 3"
   ]
  },
  {
   "cell_type": "code",
   "execution_count": null,
   "id": "e6a4b65a",
   "metadata": {},
   "outputs": [],
   "source": [
    "# formula (n*(n+1)/2)\n",
    "num = int(input(\"Enter no. \"))\n",
    "sum_ = num*(num+1)/2\n",
    "print(sum_)"
   ]
  },
  {
   "cell_type": "markdown",
   "id": "3b217307",
   "metadata": {},
   "source": [
    "# calculate the Digit Sum of a number (eg: 123 print 1+2+3=6)"
   ]
  },
  {
   "cell_type": "code",
   "execution_count": null,
   "id": "29b22871",
   "metadata": {},
   "outputs": [],
   "source": [
    "sum_ = 0\n",
    "num=12345\n",
    "while num>0:\n",
    "    sum_+=num % 10\n",
    "    num = num//10\n",
    "\n",
    "print(sum_)\n",
    "\n",
    "''' def recursive_func(num):\n",
    "    if num/10 < 1:\n",
    "        return sum_\n",
    "    sum_+=num%10\n",
    "    recursive_func(num//10)\n",
    "\n",
    "recursive_func(123)\n",
    "'''\n",
    "\n"
   ]
  },
  {
   "cell_type": "markdown",
   "id": "e64fd0c3",
   "metadata": {},
   "source": [
    "# Count Numbers, Alphabets, and Special Character from user input string"
   ]
  },
  {
   "cell_type": "code",
   "execution_count": null,
   "id": "4164149f",
   "metadata": {},
   "outputs": [],
   "source": [
    "string = \"this is a string.! it has numbers 12 44 22.12$ special character like @ # $)))**)_+ \"\n",
    "list_string= list(string)\n",
    "alpha=0\n",
    "special=0\n",
    "number = 0\n",
    "for i in list_string:\n",
    "    if i.isalpha():\n",
    "        alpha+=1\n",
    "    elif i.isnumeric():\n",
    "        number+=1\n",
    "    else:\n",
    "        special+=1\n",
    "\n",
    "print(f\"Alphabets = {alpha} Numbers = {number} Special = {special}\")"
   ]
  },
  {
   "cell_type": "markdown",
   "id": "25daca60",
   "metadata": {},
   "source": [
    " # constuct the given pattern\n",
    "\n",
    "```\n",
    "* \n",
    "* * \n",
    "* * * \n",
    "* * * * \n",
    "* * * * * \n",
    "* * * * \n",
    "* * * \n",
    "* * \n",
    "* \n",
    "````"
   ]
  },
  {
   "cell_type": "code",
   "execution_count": null,
   "id": "599ffc30",
   "metadata": {},
   "outputs": [],
   "source": [
    "num = 6\n",
    "for i in range(num):\n",
    "    for j in range(i):\n",
    "        print(\"*\", end = '')\n",
    "    print()\n",
    "for i in range(num):\n",
    "    for j in range(num-i):\n",
    "        print(\"*\", end = '')\n",
    "    print()"
   ]
  },
  {
   "cell_type": "markdown",
   "id": "4a2ef439",
   "metadata": {},
   "source": [
    "# 58. Count number of characters in a string\n",
    "eg : {'h': 1, 'e': 1, 'l': 2, 'o': 1}"
   ]
  },
  {
   "cell_type": "code",
   "execution_count": null,
   "id": "a95ebdca",
   "metadata": {},
   "outputs": [],
   "source": [
    "str1 = \"hello world\"\n",
    "dict1={}\n",
    "for i in str1:\n",
    "    keys = dict1.keys()\n",
    "    if i in keys:\n",
    "        dict1[i]+=1\n",
    "    else:\n",
    "        dict1[i]=1\n",
    "print(dict1)"
   ]
  },
  {
   "cell_type": "markdown",
   "id": "38628224",
   "metadata": {},
   "source": [
    "# write a program to compute 5/0 using try except"
   ]
  },
  {
   "cell_type": "code",
   "execution_count": null,
   "id": "9d8d9d1d",
   "metadata": {},
   "outputs": [],
   "source": [
    "try:\n",
    "    print(5/0)\n",
    "except:\n",
    "    print(\"Division by zero error\")"
   ]
  },
  {
   "cell_type": "markdown",
   "id": "6db0e866",
   "metadata": {},
   "source": [
    "#  Handle the exception thrown by the code below by using try and except blocks.\n",
    "li=[\"hello\",\"class\"]\n",
    "for i in li:\n",
    "    print (i**2)"
   ]
  },
  {
   "cell_type": "code",
   "execution_count": null,
   "id": "9ed18778",
   "metadata": {},
   "outputs": [],
   "source": [
    "try:\n",
    "    li=[\"hello\",\"class\"]\n",
    "    for i in li:\n",
    "        print (i**2)\n",
    "except:\n",
    "    print(\"error\")"
   ]
  },
  {
   "cell_type": "markdown",
   "id": "3198dfa1",
   "metadata": {},
   "source": [
    "# Write a function that asks for an integer and prints the square of it. Use a while loop with a try,except, else block to account for incorrect inputs."
   ]
  },
  {
   "cell_type": "code",
   "execution_count": null,
   "id": "cbb3bacf",
   "metadata": {},
   "outputs": [],
   "source": [
    "def func():\n",
    "    while True:\n",
    "        try:\n",
    "            num = int(input(\"enter a number: \"))\n",
    "            print(num**2)\n",
    "            break\n",
    "        except  ValueError:\n",
    "            print(\"Value is not valid\")\n",
    "\n"
   ]
  },
  {
   "cell_type": "code",
   "execution_count": null,
   "id": "00278a5a",
   "metadata": {},
   "outputs": [],
   "source": [
    "func()"
   ]
  },
  {
   "cell_type": "markdown",
   "id": "2272a72f",
   "metadata": {},
   "source": [
    "#  Accept the String and print the words composed of digits only\n"
   ]
  },
  {
   "cell_type": "code",
   "execution_count": null,
   "id": "be7340fa",
   "metadata": {},
   "outputs": [],
   "source": [
    "str1 = \"hello123 this is string1. this is number 123 and 1 is also number\"\n",
    "str1.split()\n",
    "for i in str1.split():\n",
    "    if i.isnumeric():\n",
    "        print(i)\n"
   ]
  },
  {
   "cell_type": "markdown",
   "id": "ffa7e7d2",
   "metadata": {},
   "source": [
    "#  find the parity outlier from the given sequence use list comprehension\n",
    "seq=1,2,3,5,7"
   ]
  },
  {
   "cell_type": "code",
   "execution_count": null,
   "id": "de911936",
   "metadata": {},
   "outputs": [],
   "source": [
    "def find_outlier(seq):\n",
    "    odds = [i for i in seq if i % 2 != 0]\n",
    "    evens = [i for i in seq if i % 2 == 0]\n",
    "    return odds[0] if len(odds) < len(evens) else evens[0]"
   ]
  },
  {
   "cell_type": "code",
   "execution_count": null,
   "id": "0ac1b40d",
   "metadata": {},
   "outputs": [],
   "source": [
    "find_outlier(seq)"
   ]
  },
  {
   "cell_type": "markdown",
   "id": "796652d1",
   "metadata": {},
   "source": [
    "# get the complement"
   ]
  },
  {
   "cell_type": "code",
   "execution_count": null,
   "id": "6763fa4a",
   "metadata": {},
   "outputs": [],
   "source": [
    "complement = {'A':'T', 'T':'A', 'C':'G', 'G':'C'}\n",
    "dna=\"ATTGC\"\n",
    "\"\".join(complement[letter] for letter in dna)"
   ]
  },
  {
   "cell_type": "markdown",
   "id": "20fcc7d5",
   "metadata": {},
   "source": [
    "#  Write a program that inputs a number from the user and displays the factorial of that number using while loop.\n"
   ]
  },
  {
   "cell_type": "code",
   "execution_count": 33,
   "id": "2356f7c3",
   "metadata": {},
   "outputs": [
    {
     "name": "stdout",
     "output_type": "stream",
     "text": [
      "enter num: 6\n",
      "720\n"
     ]
    }
   ],
   "source": [
    "num = int(input(\"enter num: \"))\n",
    "fact = 1\n",
    "while (num>0):\n",
    "    fact = fact * num\n",
    "    num = num - 1\n",
    "print(fact)"
   ]
  },
  {
   "cell_type": "markdown",
   "id": "5a92f34b",
   "metadata": {},
   "source": [
    "#  Ask the user for a number,to pick the color from the list print the color.\n",
    "\n"
   ]
  },
  {
   "cell_type": "code",
   "execution_count": 38,
   "id": "9f84713b",
   "metadata": {},
   "outputs": [
    {
     "name": "stdout",
     "output_type": "stream",
     "text": [
      "Enter number:1\n",
      "Blue\n"
     ]
    }
   ],
   "source": [
    "color= [ \"Blue\", \"Green\", \"Orange\", \"Red\"]\n",
    "user_input = int(input(\"Enter number:\"))\n",
    "print(color[user_input-1])"
   ]
  },
  {
   "cell_type": "markdown",
   "id": "c14a7669",
   "metadata": {},
   "source": [
    "#  Write a program that computes the value of a+aa+aaa+aaaa with a given digit as the value of a.\n"
   ]
  },
  {
   "cell_type": "code",
   "execution_count": 40,
   "id": "24a0eb1e",
   "metadata": {},
   "outputs": [
    {
     "name": "stdout",
     "output_type": "stream",
     "text": [
      "Enter number: 2\n",
      "30\n"
     ]
    }
   ],
   "source": [
    "#a+aa+aaa+aaaa\n",
    "a= int(input(\"Enter number: \"))\n",
    "result = a+a*a+a*a*a+a*a*a*a\n",
    "print(result)"
   ]
  },
  {
   "cell_type": "markdown",
   "id": "b590d891",
   "metadata": {},
   "source": [
    "#  write a program that lets user to input the value seperate by \",\" and create a list from it using list comprehension"
   ]
  },
  {
   "cell_type": "code",
   "execution_count": 43,
   "id": "3395ad0e",
   "metadata": {},
   "outputs": [
    {
     "name": "stdout",
     "output_type": "stream",
     "text": [
      "Enter the values: this is a list, and this string, \n"
     ]
    }
   ],
   "source": [
    "str1 = input(\"Enter the values: \")\n",
    "a = [x for x in str1 if x!=',']"
   ]
  },
  {
   "cell_type": "code",
   "execution_count": 44,
   "id": "9b813bff",
   "metadata": {},
   "outputs": [
    {
     "data": {
      "text/plain": [
       "['t',\n",
       " 'h',\n",
       " 'i',\n",
       " 's',\n",
       " ' ',\n",
       " 'i',\n",
       " 's',\n",
       " ' ',\n",
       " 'a',\n",
       " ' ',\n",
       " 'l',\n",
       " 'i',\n",
       " 's',\n",
       " 't',\n",
       " ' ',\n",
       " 'a',\n",
       " 'n',\n",
       " 'd',\n",
       " ' ',\n",
       " 't',\n",
       " 'h',\n",
       " 'i',\n",
       " 's',\n",
       " ' ',\n",
       " 's',\n",
       " 't',\n",
       " 'r',\n",
       " 'i',\n",
       " 'n',\n",
       " 'g',\n",
       " ' ']"
      ]
     },
     "execution_count": 44,
     "metadata": {},
     "output_type": "execute_result"
    }
   ],
   "source": [
    "a"
   ]
  },
  {
   "cell_type": "markdown",
   "id": "ac0a614d",
   "metadata": {},
   "source": [
    "# Write a program that calculates and prints the value according to the given formula:\n",
    "Q = Square root of (2 C D)/H\n",
    "given,\n",
    "c=50\n",
    "h=30\n",
    "D is the variable whose values should be input to your program in a comma-separated sequence.\n",
    "Example 100,150,180\n",
    "The output : 18,22,24\n",
    "\n"
   ]
  },
  {
   "cell_type": "code",
   "execution_count": null,
   "id": "612c6c44",
   "metadata": {},
   "outputs": [],
   "source": []
  },
  {
   "cell_type": "markdown",
   "id": "fccb672f",
   "metadata": {},
   "source": [
    "# Write a program that accepts a sequence of whitespace separated words as input and prints the words after removing all duplicate words and sorting them alphanumerically."
   ]
  },
  {
   "cell_type": "code",
   "execution_count": 60,
   "id": "e996e863",
   "metadata": {},
   "outputs": [
    {
     "name": "stdout",
     "output_type": "stream",
     "text": [
      "Enter the string: a program that accepts a sequence of whitespace separated words as input and prints the words after removing all duplicate words and sorting them alphanumerically\n"
     ]
    },
    {
     "data": {
      "text/plain": [
       "['a',\n",
       " 'accepts',\n",
       " 'after',\n",
       " 'all',\n",
       " 'alphanumerically',\n",
       " 'and',\n",
       " 'as',\n",
       " 'duplicate',\n",
       " 'input',\n",
       " 'of',\n",
       " 'prints',\n",
       " 'program',\n",
       " 'removing',\n",
       " 'separated',\n",
       " 'sequence',\n",
       " 'sorting',\n",
       " 'that',\n",
       " 'the',\n",
       " 'them',\n",
       " 'whitespace',\n",
       " 'words']"
      ]
     },
     "execution_count": 60,
     "metadata": {},
     "output_type": "execute_result"
    }
   ],
   "source": [
    "str1 = input(\"Enter the string: \")\n",
    "\n",
    "set1 = set([x for x in str1.split()])\n",
    "sorted(set1)"
   ]
  },
  {
   "cell_type": "markdown",
   "id": "66b39f18",
   "metadata": {},
   "source": [
    "#  Write a program which accepts a sequence of comma separated 4 digit binary numbers and then check whether they are divisible by 5 or not. print the number\n",
    "Example: 0100,0011,1010,1001 Then the output should be: 1010"
   ]
  },
  {
   "cell_type": "code",
   "execution_count": 92,
   "id": "79be056b",
   "metadata": {},
   "outputs": [
    {
     "data": {
      "text/plain": [
       "[1010]"
      ]
     },
     "execution_count": 92,
     "metadata": {},
     "output_type": "execute_result"
    }
   ],
   "source": [
    "b_numbers = [100,11,1010,1001]\n",
    "[x for x in b_numbers if (int(str(x),2)%5 == 0 )]"
   ]
  },
  {
   "cell_type": "markdown",
   "id": "39d4511b",
   "metadata": {},
   "source": [
    "# By using list comprehension, please write a program to print the list after removing the even index numbers\n",
    "li=range(10)"
   ]
  },
  {
   "cell_type": "code",
   "execution_count": null,
   "id": "e2fe9f8d",
   "metadata": {},
   "outputs": [],
   "source": []
  },
  {
   "cell_type": "code",
   "execution_count": null,
   "id": "c33a4c30",
   "metadata": {},
   "outputs": [],
   "source": []
  },
  {
   "cell_type": "code",
   "execution_count": null,
   "id": "814e9082",
   "metadata": {},
   "outputs": [],
   "source": []
  },
  {
   "cell_type": "markdown",
   "id": "5030e7d3",
   "metadata": {},
   "source": [
    "# write a function to get the sum of two num(use lambda)"
   ]
  },
  {
   "cell_type": "code",
   "execution_count": 121,
   "id": "9a45fe31",
   "metadata": {},
   "outputs": [
    {
     "data": {
      "text/plain": [
       "5"
      ]
     },
     "execution_count": 121,
     "metadata": {},
     "output_type": "execute_result"
    }
   ],
   "source": [
    "(lambda x,y: x + y)(2,3)"
   ]
  },
  {
   "cell_type": "markdown",
   "id": "8b9f4b91",
   "metadata": {},
   "source": [
    "# write a function to print if leap year or not\n"
   ]
  },
  {
   "cell_type": "code",
   "execution_count": 126,
   "id": "2368d8f4",
   "metadata": {},
   "outputs": [],
   "source": [
    "def leap_year(year=2000):\n",
    "    if (year % 4==0):\n",
    "        print(f\"{year} is leap year\")\n",
    "    else: \n",
    "        print(f\"{year} is not leap year\")"
   ]
  },
  {
   "cell_type": "code",
   "execution_count": 127,
   "id": "2dd0a4e3",
   "metadata": {},
   "outputs": [
    {
     "name": "stdout",
     "output_type": "stream",
     "text": [
      "2020 is leap year\n"
     ]
    }
   ],
   "source": [
    "leap_year(2020)"
   ]
  },
  {
   "cell_type": "markdown",
   "id": "2de6d6bf",
   "metadata": {},
   "source": [
    "#  write a function to count a bit(number of 1) in number (use lambda)\n"
   ]
  },
  {
   "cell_type": "code",
   "execution_count": 131,
   "id": "9cb19b72",
   "metadata": {},
   "outputs": [
    {
     "data": {
      "text/plain": [
       "5"
      ]
     },
     "execution_count": 131,
     "metadata": {},
     "output_type": "execute_result"
    }
   ],
   "source": [
    "num = 1234\n",
    "bin(num).count('1')"
   ]
  },
  {
   "cell_type": "code",
   "execution_count": null,
   "id": "f12ca87f",
   "metadata": {},
   "outputs": [],
   "source": []
  },
  {
   "cell_type": "markdown",
   "id": "e3e11bc2",
   "metadata": {},
   "source": [
    "#  write a program to get the area of a circle from the radius (use lambda)\n"
   ]
  },
  {
   "cell_type": "code",
   "execution_count": 134,
   "id": "d49751a8",
   "metadata": {},
   "outputs": [
    {
     "data": {
      "text/plain": [
       "9.42"
      ]
     },
     "execution_count": 134,
     "metadata": {},
     "output_type": "execute_result"
    }
   ],
   "source": [
    "\n",
    "(lambda x : 3.14*r)(3) "
   ]
  },
  {
   "cell_type": "markdown",
   "id": "c912dbe0",
   "metadata": {},
   "source": [
    "#  write a function to get the factorial of given number use recurssion\n"
   ]
  },
  {
   "cell_type": "code",
   "execution_count": 139,
   "id": "ec52e87e",
   "metadata": {},
   "outputs": [],
   "source": [
    "def fact(n):\n",
    "    if n==1:\n",
    "        return n\n",
    "    else:\n",
    "        return n*fact(n-1)\n",
    "    "
   ]
  },
  {
   "cell_type": "code",
   "execution_count": 140,
   "id": "0ce4ffa8",
   "metadata": {},
   "outputs": [
    {
     "name": "stdout",
     "output_type": "stream",
     "text": [
      "720\n"
     ]
    }
   ],
   "source": [
    "print(fact(6))"
   ]
  },
  {
   "cell_type": "code",
   "execution_count": 137,
   "id": "edb89207",
   "metadata": {},
   "outputs": [],
   "source": []
  },
  {
   "cell_type": "code",
   "execution_count": 138,
   "id": "51c2c297",
   "metadata": {},
   "outputs": [
    {
     "data": {
      "text/plain": [
       "720"
      ]
     },
     "execution_count": 138,
     "metadata": {},
     "output_type": "execute_result"
    }
   ],
   "source": [
    "recur_factorial(6)"
   ]
  },
  {
   "cell_type": "code",
   "execution_count": null,
   "id": "a63b1b75",
   "metadata": {},
   "outputs": [],
   "source": [
    "num = int(input(\"enter num: \"))\n",
    "fact = 1\n",
    "while (num>0):\n",
    "    fact = fact * num\n",
    "    num = num - 1\n",
    "print(fact)"
   ]
  },
  {
   "cell_type": "markdown",
   "id": "2514c118",
   "metadata": {},
   "source": [
    "# write a program to remove a duplicate word in a list or user input sentences.\n"
   ]
  },
  {
   "cell_type": "code",
   "execution_count": 146,
   "id": "5fe4dacf",
   "metadata": {},
   "outputs": [
    {
     "name": "stdout",
     "output_type": "stream",
     "text": [
      "{'in', 'program', 'int', 'duplicate', 'write', 'list', 'remove', 'sentences', 'or', 'user', 'input', 'to', 'a', 'word'}\n"
     ]
    }
   ],
   "source": [
    "str1 = \"write a program to program program remove word list user int in in remove a duplicate word in a list or user input sentences\"\n",
    "duplicate_free_words = set(str1.split())\n",
    "print(duplicate_free_words)"
   ]
  },
  {
   "cell_type": "markdown",
   "id": "83647210",
   "metadata": {},
   "source": [
    "# calculate fibonacci\n"
   ]
  },
  {
   "cell_type": "code",
   "execution_count": 153,
   "id": "8fc3a70f",
   "metadata": {},
   "outputs": [
    {
     "name": "stdout",
     "output_type": "stream",
     "text": [
      "0\n",
      "1\n",
      "1\n",
      "2\n",
      "3\n",
      "5\n",
      "8\n"
     ]
    }
   ],
   "source": [
    "n1 = 0\n",
    "n2 = 1\n",
    "n = 7 # total terms\n",
    "count = 0\n",
    "if(n<=1):\n",
    "    print(n1)\n",
    "else:\n",
    "    while count<n:\n",
    "        print(n1)\n",
    "        temp = n1 + n2\n",
    "        n1 = n2\n",
    "        n2 = temp\n",
    "        count+=1"
   ]
  },
  {
   "cell_type": "markdown",
   "id": "5dc08013",
   "metadata": {},
   "source": [
    "#  write a function to get the premutation and combination\n"
   ]
  },
  {
   "cell_type": "code",
   "execution_count": 164,
   "id": "0df5bf78",
   "metadata": {},
   "outputs": [],
   "source": [
    "def facto(num):\n",
    "    fact = 1\n",
    "    while (num>0):\n",
    "        fact = fact * num\n",
    "        num = num - 1\n",
    "    return fact \n",
    "\n",
    "def get_permotation_combination(n,r):\n",
    "    permo = facto(n)/facto(n-r)\n",
    "    combi = facto(n)/(facto(r)*facto(n-r))\n",
    "    print(f\"Permotation: {permo}\")\n",
    "    print(f\"Combination: {combi}\")"
   ]
  },
  {
   "cell_type": "code",
   "execution_count": 166,
   "id": "89e99d89",
   "metadata": {},
   "outputs": [
    {
     "name": "stdout",
     "output_type": "stream",
     "text": [
      "Permotation: 30.0\n",
      "Combination: 15.0\n"
     ]
    }
   ],
   "source": [
    "get_permotation_combination(6,2)"
   ]
  },
  {
   "cell_type": "markdown",
   "id": "bd8ac735",
   "metadata": {},
   "source": [
    "#  write a function to draw a diamond shape from a user given number:\n"
   ]
  },
  {
   "cell_type": "code",
   "execution_count": 195,
   "id": "96547748",
   "metadata": {},
   "outputs": [
    {
     "name": "stdout",
     "output_type": "stream",
     "text": [
      "           *\n",
      "          ***\n",
      "         *****\n",
      "        *******\n",
      "       *********\n",
      "      ***********\n",
      "     *************\n",
      "    ***************\n",
      "   *****************\n",
      "  *******************\n",
      "   *****************\n",
      "    ***************\n",
      "     *************\n",
      "      ***********\n",
      "       *********\n",
      "        *******\n",
      "         *****\n",
      "          ***\n",
      "           *\n"
     ]
    }
   ],
   "source": [
    "def draw_diamond(size=5):\n",
    "    for i in range(size):\n",
    "        print(\" \"*(size-i), \"*\"*(i*2+1))\n",
    "    for i in range(size-2,-1,-1):\n",
    "        print(\" \"*(size-i), \"*\"*(i*2+1))\n",
    "\n",
    "draw_diamond(10)"
   ]
  },
  {
   "cell_type": "markdown",
   "id": "92dd2254",
   "metadata": {},
   "source": [
    "# build a simple calculator which can:\n",
    "- add\n",
    "- subtract\n",
    "- multiply\n",
    "- divide"
   ]
  },
  {
   "cell_type": "code",
   "execution_count": 216,
   "id": "3df90d20",
   "metadata": {},
   "outputs": [],
   "source": [
    "def calc(x,y):\n",
    "    op = input(\"Enter a to Add, s to Subtrat, m to Multip, d to Divide \")\n",
    "    if op==\"a\":\n",
    "        print(f\"inside {op} \")\n",
    "        return x + y\n",
    "    elif op==\"s\":\n",
    "        print(f\"inside {op} \")\n",
    "\n",
    "        return x - y\n",
    "    elif op=='m':\n",
    "        print(f\"inside {op} \")\n",
    "\n",
    "        return x * y\n",
    "    elif op == \"d\":\n",
    "        print(f\"inside {op} \")\n",
    "\n",
    "        return x/y\n",
    "    else:\n",
    "        print(\"Wrong Operator\")\n",
    "        calc(x,y)"
   ]
  },
  {
   "cell_type": "code",
   "execution_count": 218,
   "id": "c1cdae2e",
   "metadata": {},
   "outputs": [
    {
     "name": "stdout",
     "output_type": "stream",
     "text": [
      "Enter a to Add, s to Subtrat, m to Multip, d to Divide a\n",
      "inside a \n"
     ]
    },
    {
     "data": {
      "text/plain": [
       "10"
      ]
     },
     "execution_count": 218,
     "metadata": {},
     "output_type": "execute_result"
    }
   ],
   "source": [
    "calc(5,5)"
   ]
  },
  {
   "cell_type": "markdown",
   "id": "5c50f276",
   "metadata": {},
   "source": [
    "# define a function which can print a given string in a circular rotation\n"
   ]
  },
  {
   "cell_type": "code",
   "execution_count": 224,
   "id": "b3b1197e",
   "metadata": {},
   "outputs": [
    {
     "name": "stdout",
     "output_type": "stream",
     "text": [
      "naeem\n",
      "aeemn\n",
      "eemna\n",
      "emnae\n",
      "mnaee\n"
     ]
    }
   ],
   "source": [
    "    str1 = \"naeem\"\n",
    "    for i in range(len(str1)):\n",
    "        new_str = str1[i:]+ str1[:i]\n",
    "        print(new_str)\n",
    "        \n",
    "        "
   ]
  },
  {
   "cell_type": "code",
   "execution_count": null,
   "id": "48920f10",
   "metadata": {},
   "outputs": [],
   "source": []
  },
  {
   "cell_type": "markdown",
   "id": "fd1788fb",
   "metadata": {},
   "source": [
    "# write a function to calculate the GCD of 2 number"
   ]
  },
  {
   "cell_type": "code",
   "execution_count": 226,
   "id": "7e856efb",
   "metadata": {},
   "outputs": [],
   "source": [
    "def cal_gcd(a,b):\n",
    "    if(b==0):\n",
    "        return a\n",
    "    else:\n",
    "        return cal_gcd(b,a%b)\n",
    "    "
   ]
  },
  {
   "cell_type": "code",
   "execution_count": 234,
   "id": "e60999d5",
   "metadata": {},
   "outputs": [
    {
     "data": {
      "text/plain": [
       "6"
      ]
     },
     "execution_count": 234,
     "metadata": {},
     "output_type": "execute_result"
    }
   ],
   "source": [
    "cal_gcd(24,18)"
   ]
  },
  {
   "cell_type": "markdown",
   "id": "2d46166d",
   "metadata": {},
   "source": [
    "# Write a Python function to check whether a string is pangram or not.\n"
   ]
  },
  {
   "cell_type": "code",
   "execution_count": 268,
   "id": "3c5138e7",
   "metadata": {},
   "outputs": [],
   "source": [
    "def pamgram(str1):\n",
    "    str2=\"\"\n",
    "    for i in range(len(str1)-1,-1,-1):\n",
    "        str2=str2+str1[i]\n",
    "\n",
    "    if str1==str2:\n",
    "        print(\"Pangram\")\n",
    "    else:\n",
    "        print(\"Not pangram\")\n"
   ]
  },
  {
   "cell_type": "code",
   "execution_count": 273,
   "id": "2253795a",
   "metadata": {},
   "outputs": [
    {
     "name": "stdout",
     "output_type": "stream",
     "text": [
      "Pangram\n"
     ]
    }
   ],
   "source": [
    "pamgram(\"madam\")"
   ]
  },
  {
   "cell_type": "markdown",
   "id": "139a40ce",
   "metadata": {},
   "source": [
    "# write a function which take a list of number and target where target is number . print the index from the list where the sum of the index value is equal to that of the target\n",
    "\n",
    "\n"
   ]
  },
  {
   "cell_type": "markdown",
   "id": "460d874b",
   "metadata": {},
   "source": []
  },
  {
   "cell_type": "markdown",
   "id": "c1985bf4",
   "metadata": {},
   "source": [
    "# write a function to calculate the LCM of a 2 number\n",
    "lcm of 54 and 42 is 216"
   ]
  },
  {
   "cell_type": "code",
   "execution_count": 276,
   "id": "d3c7689c",
   "metadata": {},
   "outputs": [],
   "source": [
    "def calc_lcm(a,b):\n",
    "    return (a*b/cal_gcd(a,b))"
   ]
  },
  {
   "cell_type": "code",
   "execution_count": 279,
   "id": "085dd3f7",
   "metadata": {},
   "outputs": [
    {
     "data": {
      "text/plain": [
       "378.0"
      ]
     },
     "execution_count": 279,
     "metadata": {},
     "output_type": "execute_result"
    }
   ],
   "source": [
    "calc_lcm(54,42)"
   ]
  },
  {
   "cell_type": "markdown",
   "id": "e8250e84",
   "metadata": {},
   "source": [
    "#  write a function that gives the prime factor only"
   ]
  },
  {
   "cell_type": "code",
   "execution_count": 283,
   "id": "f597d219",
   "metadata": {},
   "outputs": [],
   "source": [
    "def prime_factor(num):\n",
    "    i = 2\n",
    "    prime = []\n",
    "    while i * i <=num:\n",
    "        if num % i == 0:\n",
    "            prime.append(i)\n",
    "            num//=i\n",
    "        else: \n",
    "            i+=1\n",
    "    if num>1: \n",
    "        prime.append(num)\n",
    "    return prime"
   ]
  },
  {
   "cell_type": "code",
   "execution_count": 284,
   "id": "b860c3c3",
   "metadata": {},
   "outputs": [
    {
     "data": {
      "text/plain": [
       "[2, 3, 3]"
      ]
     },
     "execution_count": 284,
     "metadata": {},
     "output_type": "execute_result"
    }
   ],
   "source": [
    "prime_factor(18)"
   ]
  },
  {
   "cell_type": "markdown",
   "id": "a4204a6c",
   "metadata": {},
   "source": [
    "#  write a function that print the first non repeating letter"
   ]
  },
  {
   "cell_type": "code",
   "execution_count": 305,
   "id": "203ed2cb",
   "metadata": {},
   "outputs": [],
   "source": [
    "def non_repeating(str1):\n",
    "\n",
    "    dict1={}\n",
    "    for i in str1:\n",
    "        keys = dict1.keys()\n",
    "        if i in keys:\n",
    "            dict1[i]+=1\n",
    "        else:\n",
    "            dict1[i]=1\n",
    "    print(dict1)\n",
    "\n",
    "    for i in dict1:\n",
    "        if dict1[i]==1:\n",
    "            return i\n",
    "\n",
    "    return \"None\" "
   ]
  },
  {
   "cell_type": "code",
   "execution_count": 306,
   "id": "585c2b35",
   "metadata": {},
   "outputs": [
    {
     "name": "stdout",
     "output_type": "stream",
     "text": [
      "{'h': 3, 'e': 3, 'l': 6, 'o': 3, ' ': 2}\n"
     ]
    },
    {
     "data": {
      "text/plain": [
       "'None'"
      ]
     },
     "execution_count": 306,
     "metadata": {},
     "output_type": "execute_result"
    }
   ],
   "source": [
    "non_repeating(\"hello hello hello\")"
   ]
  },
  {
   "cell_type": "markdown",
   "id": "03daee59",
   "metadata": {},
   "source": [
    "# return sum of array excluding the lowest and highest element"
   ]
  },
  {
   "cell_type": "code",
   "execution_count": 327,
   "id": "2e4c7487",
   "metadata": {},
   "outputs": [
    {
     "name": "stdout",
     "output_type": "stream",
     "text": [
      "9\n"
     ]
    }
   ],
   "source": [
    "arr = [1,2,3,4,5]\n",
    "sum_=0\n",
    "for i in range(1,len(arr)-1):\n",
    "    sum_+=arr[i]\n",
    "\n",
    "print(sum_)"
   ]
  }
 ],
 "metadata": {
  "kernelspec": {
   "display_name": "Python 3 (ipykernel)",
   "language": "python",
   "name": "python3"
  },
  "language_info": {
   "codemirror_mode": {
    "name": "ipython",
    "version": 3
   },
   "file_extension": ".py",
   "mimetype": "text/x-python",
   "name": "python",
   "nbconvert_exporter": "python",
   "pygments_lexer": "ipython3",
   "version": "3.9.5"
  },
  "toc": {
   "base_numbering": 1,
   "nav_menu": {},
   "number_sections": true,
   "sideBar": true,
   "skip_h1_title": false,
   "title_cell": "Table of Contents",
   "title_sidebar": "Contents",
   "toc_cell": false,
   "toc_position": {},
   "toc_section_display": true,
   "toc_window_display": false
  }
 },
 "nbformat": 4,
 "nbformat_minor": 5
}
