{
 "cells": [
  {
   "cell_type": "markdown",
   "metadata": {
    "id": "6XgF1dqkik_R"
   },
   "source": [
    "# Assignment\n",
    "<img src =\"https://www.learnupon.com/wp-content/uploads/assignments720.png\">"
   ]
  },
  {
   "cell_type": "markdown",
   "metadata": {
    "id": "-cqI6A60ik_T",
    "slideshow": {
     "slide_type": "skip"
    }
   },
   "source": [
    "1. what are the differnce between the command ?\n",
    "- ls\n",
    "- ls -a\n",
    "- ls -a -l\n",
    "\n",
    "is there any difference between ls -a -l and ls -al .why?"
   ]
  },
  {
   "cell_type": "code",
   "execution_count": 1,
   "metadata": {
    "id": "0FFKdHmvik_U"
   },
   "outputs": [
    {
     "name": "stdout",
     "output_type": "stream",
     "text": [
      "'Markdown assignment.md.ipynb'\t data\t\t\t  test\r\n",
      " Untitled.ipynb\t\t\t git_test\t\t  untitled.txt\r\n",
      " Untitled1.ipynb\t\t online-cv\t\t  youtext.txt\r\n",
      " collab_work\t\t\t python\r\n",
      " command.ipynb\t\t\t terminal_commans.ipynb\r\n"
     ]
    }
   ],
   "source": [
    "# ls list all the entries except the hidden \n",
    "!ls"
   ]
  },
  {
   "cell_type": "code",
   "execution_count": 2,
   "metadata": {},
   "outputs": [
    {
     "name": "stdout",
     "output_type": "stream",
     "text": [
      " .\t\t\t\t collab_work\t terminal_commans.ipynb\r\n",
      " ..\t\t\t\t command.ipynb\t test\r\n",
      " .ipynb_checkpoints\t\t data\t\t untitled.txt\r\n",
      "'Markdown assignment.md.ipynb'\t git_test\t youtext.txt\r\n",
      " Untitled.ipynb\t\t\t online-cv\r\n",
      " Untitled1.ipynb\t\t python\r\n"
     ]
    }
   ],
   "source": [
    "#ls -a list all the entries including the hidden\n",
    "!ls -a"
   ]
  },
  {
   "cell_type": "code",
   "execution_count": 3,
   "metadata": {},
   "outputs": [
    {
     "name": "stdout",
     "output_type": "stream",
     "text": [
      "total 1136\r\n",
      "drwxr-xr-x  9 naeem naeem    4096 Sep 28 23:49  .\r\n",
      "drwxr-xr-x 15 naeem naeem    4096 Sep 30 14:12  ..\r\n",
      "drwxr-xr-x  2 naeem naeem    4096 Sep 23 10:03  .ipynb_checkpoints\r\n",
      "-rw-r--r--  1 naeem naeem    7698 Sep 23 01:16 'Markdown assignment.md.ipynb'\r\n",
      "-rw-r--r--  1 naeem naeem 1062929 Sep 14 12:00  Untitled.ipynb\r\n",
      "-rw-r--r--  1 naeem naeem     921 Sep 23 10:07  Untitled1.ipynb\r\n",
      "drwxr-xr-x  4 naeem naeem    4096 Sep 28 23:05  collab_work\r\n",
      "-rw-r--r--  1 naeem naeem   35843 Sep 15 22:05  command.ipynb\r\n",
      "drwxr-xr-x  4 naeem naeem    4096 Sep 30 17:52  data\r\n",
      "drwxr-xr-x  3 naeem naeem    4096 Sep 27 23:44  git_test\r\n",
      "drwxr-xr-x  9 naeem naeem    4096 Sep 28 23:49  online-cv\r\n",
      "drwxr-xr-x  3 naeem naeem    4096 Sep 20 13:10  python\r\n",
      "-rw-r--r--  1 naeem naeem   11975 Sep 23 02:06  terminal_commans.ipynb\r\n",
      "drwxr-xr-x  3 naeem naeem    4096 Sep 24 13:48  test\r\n",
      "-rw-r--r--  1 naeem naeem       0 Sep 14 14:54  untitled.txt\r\n",
      "-rw-r--r--  1 naeem naeem       0 Sep 15 22:03  youtext.txt\r\n"
     ]
    }
   ],
   "source": [
    "# ls -al and ls -a -l both give the same output\n",
    "# ls -al or ls -a -l gives all the entries including the hidden by using the long listing format \n",
    "!ls -a -l"
   ]
  },
  {
   "cell_type": "code",
   "execution_count": 4,
   "metadata": {},
   "outputs": [
    {
     "name": "stdout",
     "output_type": "stream",
     "text": [
      "total 1136\r\n",
      "drwxr-xr-x  9 naeem naeem    4096 Sep 28 23:49  .\r\n",
      "drwxr-xr-x 15 naeem naeem    4096 Sep 30 14:12  ..\r\n",
      "drwxr-xr-x  2 naeem naeem    4096 Sep 23 10:03  .ipynb_checkpoints\r\n",
      "-rw-r--r--  1 naeem naeem    7698 Sep 23 01:16 'Markdown assignment.md.ipynb'\r\n",
      "-rw-r--r--  1 naeem naeem 1062929 Sep 14 12:00  Untitled.ipynb\r\n",
      "-rw-r--r--  1 naeem naeem     921 Sep 23 10:07  Untitled1.ipynb\r\n",
      "drwxr-xr-x  4 naeem naeem    4096 Sep 28 23:05  collab_work\r\n",
      "-rw-r--r--  1 naeem naeem   35843 Sep 15 22:05  command.ipynb\r\n",
      "drwxr-xr-x  4 naeem naeem    4096 Sep 30 17:52  data\r\n",
      "drwxr-xr-x  3 naeem naeem    4096 Sep 27 23:44  git_test\r\n",
      "drwxr-xr-x  9 naeem naeem    4096 Sep 28 23:49  online-cv\r\n",
      "drwxr-xr-x  3 naeem naeem    4096 Sep 20 13:10  python\r\n",
      "-rw-r--r--  1 naeem naeem   11975 Sep 23 02:06  terminal_commans.ipynb\r\n",
      "drwxr-xr-x  3 naeem naeem    4096 Sep 24 13:48  test\r\n",
      "-rw-r--r--  1 naeem naeem       0 Sep 14 14:54  untitled.txt\r\n",
      "-rw-r--r--  1 naeem naeem       0 Sep 15 22:03  youtext.txt\r\n"
     ]
    }
   ],
   "source": [
    "# ls -al and ls -a -l both give the same output\n",
    "# ls -al or ls -a -l gives all the entries including the hidden by using the long listing format \n",
    "!ls -al"
   ]
  },
  {
   "cell_type": "markdown",
   "metadata": {
    "id": "iM7or3QNik_U"
   },
   "source": [
    "\n",
    "- What command clears the contents of your terminal display?\n",
    "- Answer: clear\n",
    "- What is the default directory path for system log files?\n",
    "- Answer: /var/log\n",
    "- What command is used to get the ip address of all interfaces on a server?\n",
    "- Answer: !ip addr show\n",
    "- What command and parameter (or switch) will force a program to quit (even one running in the background)? \n",
    "- Answer: !kill -9 -1\n",
    "- What command is used to change ownership of a file?\n",
    "- Answer: chown\n",
    "- What command(s) shows you disk partitions and percentage of disk space used?\n",
    "- What command displays your current username?\n",
    "- Answer: whoami\n",
    "- What command allows you to open and view a file one page at a time?\n",
    "- Answer: nano\n",
    "- What command is used to change a file name?\n",
    "- Answer: mv\n",
    "- What is the command to switch to the root user account?\n",
    "- Answer: sudo su\n",
    "- What command is used to display your previous commands?\n",
    "- Answer: history\n",
    "- What is the command to run a program with elevated permissions?\n",
    "- Answer: sudo\n",
    "- what command is used to count count the total number of lines, words and character in a file?\n",
    "- Answer: wc\n",
    "-  What command is used to add printing jobs to the queue?\n",
    "- Answer: lprm"
   ]
  },
  {
   "cell_type": "code",
   "execution_count": null,
   "metadata": {},
   "outputs": [],
   "source": []
  },
  {
   "cell_type": "markdown",
   "metadata": {
    "id": "u0Ru3pVNik_V"
   },
   "source": [
    "### here are the essential command line tools for data scientist . I would like each one of you to go through the command , use it and explain what it does? \n",
    "- write  a difference between the CURL and WGET ?\n",
    "- Answer \n",
    "    - curl will show the output in the console. On the other hand, wget will download it into a file\n",
    "    - curl provides apis which can be used by the programmer while wget does not provide apis"
   ]
  },
  {
   "cell_type": "markdown",
   "metadata": {
    "id": "Y9snih5lik_W"
   },
   "source": [
    "1. wget\n",
    "    - It is used to download files from web \n",
    "    -  It supports HTTP, HTTPS, and FTP protocols\n",
    "    -  command \n",
    "        -  wget http://archive.ics.uci.edu/ml/machine-learning-databases/iris/\n",
    "    -  download multiple files\n",
    "        - wget http://archive.ics.uci.edu/ml/machine-learning-databases/iris/        http://archive.ics.uci.edu/ml/machine-learning-databases/abalone/\n",
    "2. curl\n",
    "    - Transfer data to or from server\n",
    "    - Also use to test APIs\n",
    "    - command \n",
    "        - curl https://jsonplaceholder.typicode.com/posts\n",
    "    - also can upload data\n",
    "        - curl --data \"title=Hello&body=hello world\" https://jsonplaceholder.typicode.com/posts\n",
    "    - update data\n",
    "        - curl -X PUT -d \"title=Bye&body= Bye bye good night\" https://jsonplaceholder.typicode.com/posts/101\n",
    "2. head\n",
    "    - head command provides the specific number of lines from the start of the file. By default 10 lines will be provided if no flag is specified. \n",
    "    - head -n3 filename\n",
    "3. tail\n",
    "    - tail command provides the specific number of ines from the tail of the file. By default it provides 10 lines if no flag is provide\n",
    "    - tail -n5 filename\n",
    "4. find\n",
    "5. cut\n",
    "6. uniq\n",
    "7. grep"
   ]
  },
  {
   "cell_type": "markdown",
   "metadata": {
    "id": "hsnm3y_Eik_X"
   },
   "source": [
    "# Baic data analysis task with the command shell"
   ]
  },
  {
   "cell_type": "markdown",
   "metadata": {
    "id": "K1zrAUmIik_X"
   },
   "source": [
    "q1. download a file from the given link and save it as iris.data and abalone.data\n",
    "\n",
    "links:\n",
    "\n",
    "    -  http://archive.ics.uci.edu/ml/machine-learning-databases/iris/\n",
    "\n",
    "    - http://archive.ics.uci.edu/ml/machine-learning-databases/abalone/ "
   ]
  },
  {
   "cell_type": "markdown",
   "metadata": {
    "id": "W2XKkMT8ik_Y"
   },
   "source": [
    "Q2. print the fist and last 5 lines in the file iris and abalone"
   ]
  },
  {
   "cell_type": "markdown",
   "metadata": {
    "id": "dlk_RIl3ik_Z"
   },
   "source": [
    "Q3. extract the intermediate line (50-60)for iris and (100-110) for abalone .Hint: use piping with head and tail"
   ]
  },
  {
   "cell_type": "markdown",
   "metadata": {
    "id": "cRK7rCfTik_Z"
   },
   "source": [
    "Q4. count the number of rows"
   ]
  },
  {
   "cell_type": "markdown",
   "metadata": {
    "id": "gkuDurqxik_a"
   },
   "source": [
    "Q.5 Remove the 1st 10 line from the abalone.data : hint use :Sed command. hint: https://www.geeksforgeeks.org/sed-command-in-linux-unix-with-examples/\n"
   ]
  },
  {
   "cell_type": "markdown",
   "metadata": {
    "id": "5FqUtp1sik_a"
   },
   "source": [
    " Q.6 when you print the last 5 row you see only 4 because you have 1 blank line at the end of file. remove the line \n",
    "\n",
    " - save a new removed last line file into a same iris.data file"
   ]
  },
  {
   "cell_type": "markdown",
   "metadata": {
    "id": "MTenumhtik_b"
   },
   "source": [
    "Q.7 get the size of the file"
   ]
  },
  {
   "cell_type": "code",
   "execution_count": null,
   "metadata": {},
   "outputs": [],
   "source": []
  },
  {
   "cell_type": "markdown",
   "metadata": {
    "ExecuteTime": {
     "end_time": "2020-03-31T13:34:04.977344Z",
     "start_time": "2020-03-31T13:34:04.968196Z"
    },
    "id": "64qyRoqHik_b"
   },
   "source": [
    "Q.8 extract the first and second column of the data abalone\n",
    "hint: use cut"
   ]
  },
  {
   "cell_type": "markdown",
   "metadata": {
    "id": "37QlgGU-ik_c"
   },
   "source": [
    "Q.9 count the unique value in the column for the iris and abalone\n",
    "\n",
    "hint:\n",
    "\n",
    "- take species column from the iris\n",
    "- take the sex column from the abalone "
   ]
  },
  {
   "cell_type": "code",
   "execution_count": null,
   "metadata": {
    "id": "ttL7-7g8ik_c"
   },
   "outputs": [],
   "source": []
  },
  {
   "cell_type": "markdown",
   "metadata": {
    "id": "puXMGjWi1QUe"
   },
   "source": [
    "Q.10 print only the female abalone and show 10 out of them. and also the species Iris-virginical from the iris dataset"
   ]
  },
  {
   "cell_type": "code",
   "execution_count": 1,
   "metadata": {
    "id": "kcnuOqn41cHg"
   },
   "outputs": [
    {
     "ename": "NameError",
     "evalue": "name 'dfja' is not defined",
     "output_type": "error",
     "traceback": [
      "\u001b[0;31m---------------------------------------------------------------------------\u001b[0m",
      "\u001b[0;31mNameError\u001b[0m                                 Traceback (most recent call last)",
      "\u001b[0;32m/tmp/ipykernel_4591/259165694.py\u001b[0m in \u001b[0;36m<module>\u001b[0;34m\u001b[0m\n\u001b[0;32m----> 1\u001b[0;31m \u001b[0mdfja\u001b[0m\u001b[0;34m\u001b[0m\u001b[0;34m\u001b[0m\u001b[0m\n\u001b[0m",
      "\u001b[0;31mNameError\u001b[0m: name 'dfja' is not defined"
     ]
    }
   ],
   "source": [
    "dfja"
   ]
  },
  {
   "cell_type": "markdown",
   "metadata": {
    "id": "jkTzZLsk1cw_"
   },
   "source": [
    "Q.11 use  a column command to view the abalone.data into a table format  amd use head to show only 5 of them"
   ]
  },
  {
   "cell_type": "code",
   "execution_count": null,
   "metadata": {
    "id": "VACnFqp_1ogc"
   },
   "outputs": [],
   "source": []
  },
  {
   "cell_type": "markdown",
   "metadata": {
    "id": "Qnmhrm-W1pVX"
   },
   "source": [
    "Q.12 from the whole data in abalone randomly shuffle and take 5 rows"
   ]
  },
  {
   "cell_type": "code",
   "execution_count": null,
   "metadata": {
    "id": "txZdAeod1wn1"
   },
   "outputs": [],
   "source": []
  }
 ],
 "metadata": {
  "celltoolbar": "Slideshow",
  "colab": {
   "collapsed_sections": [],
   "name": "terminal_command.ipynb",
   "provenance": []
  },
  "kernelspec": {
   "display_name": "Python 3 (ipykernel)",
   "language": "python",
   "name": "python3"
  },
  "language_info": {
   "codemirror_mode": {
    "name": "ipython",
    "version": 3
   },
   "file_extension": ".py",
   "mimetype": "text/x-python",
   "name": "python",
   "nbconvert_exporter": "python",
   "pygments_lexer": "ipython3",
   "version": "3.9.5"
  },
  "toc": {
   "base_numbering": 1,
   "nav_menu": {},
   "number_sections": true,
   "sideBar": true,
   "skip_h1_title": false,
   "title_cell": "Table of Contents",
   "title_sidebar": "Contents",
   "toc_cell": false,
   "toc_position": {},
   "toc_section_display": true,
   "toc_window_display": false
  },
  "varInspector": {
   "cols": {
    "lenName": 16,
    "lenType": 16,
    "lenVar": 40
   },
   "kernels_config": {
    "python": {
     "delete_cmd_postfix": "",
     "delete_cmd_prefix": "del ",
     "library": "var_list.py",
     "varRefreshCmd": "print(var_dic_list())"
    },
    "r": {
     "delete_cmd_postfix": ") ",
     "delete_cmd_prefix": "rm(",
     "library": "var_list.r",
     "varRefreshCmd": "cat(var_dic_list()) "
    }
   },
   "types_to_exclude": [
    "module",
    "function",
    "builtin_function_or_method",
    "instance",
    "_Feature"
   ],
   "window_display": false
  }
 },
 "nbformat": 4,
 "nbformat_minor": 2
}
